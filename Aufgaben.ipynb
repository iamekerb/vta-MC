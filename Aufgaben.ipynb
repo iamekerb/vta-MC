{
 "cells": [
  {
   "cell_type": "markdown",
   "source": [
    "Imports:\n",
    "Importieren der nötigen Pakete für die Minichallenge"
   ],
   "metadata": {
    "collapsed": false
   },
   "id": "d39776936a322cbd"
  },
  {
   "cell_type": "code",
   "execution_count": 1,
   "outputs": [],
   "source": [
    "import numpy as np\n",
    "import matplotlib.pyplot as plt\n",
    "import torchvision as tv\n",
    "import unittest"
   ],
   "metadata": {
    "collapsed": false,
    "ExecuteTime": {
     "end_time": "2024-04-10T08:14:22.500555500Z",
     "start_time": "2024-04-10T08:14:05.703375300Z"
    }
   },
   "id": "5413021fd0382fdf"
  },
  {
   "cell_type": "markdown",
   "source": [
    "##Aufgabe 1\n",
    "Laden des MNIST Datensatzes, einmal um das spätere Model zu trainieren und einmal um es zu testen."
   ],
   "metadata": {
    "collapsed": false
   },
   "id": "9d5001b1b1f361ab"
  },
  {
   "cell_type": "code",
   "execution_count": 2,
   "outputs": [],
   "source": [
    "MNIST_dataset_train = tv.datasets.MNIST(root='./data', train=True, download=True)\n",
    "\n",
    "MNIST_dataset_test = tv.datasets.MNIST(root='./data', train=False, download=True)"
   ],
   "metadata": {
    "collapsed": false,
    "ExecuteTime": {
     "end_time": "2024-04-10T08:14:22.748275Z",
     "start_time": "2024-04-10T08:14:22.499556900Z"
    }
   },
   "id": "93411f47aae5ce79"
  },
  {
   "cell_type": "markdown",
   "source": [
    "Übersicht über die Daten bekommen mithilfe von Matplotlib"
   ],
   "metadata": {
    "collapsed": false
   },
   "id": "456487ca376b19c8"
  },
  {
   "cell_type": "code",
   "execution_count": 3,
   "outputs": [
    {
     "name": "stdout",
     "output_type": "stream",
     "text": [
      "[[  0   0   0   0   0   0   0   0   0   0   0   0   0   0   0   0   0   0\n",
      "    0   0   0   0   0   0   0   0   0   0]\n",
      " [  0   0   0   0   0   0   0   0   0   0   0   0   0   0   0   0   0   0\n",
      "    0   0   0   0   0   0   0   0   0   0]\n",
      " [  0   0   0   0   0   0   0   0   0   0   0   0   0   0   0   0   0   0\n",
      "    0   0   0   0   0   0   0   0   0   0]\n",
      " [  0   0   0   0   0   0   0   0   0   0   0   0   0   0   0   0   0   0\n",
      "    0   0   0   0   0   0   0   0   0   0]\n",
      " [  0   0   0   0   0   0   0   0   0   0   0   0   0   0   0  51 159 253\n",
      "  159  50   0   0   0   0   0   0   0   0]\n",
      " [  0   0   0   0   0   0   0   0   0   0   0   0   0   0  48 238 252 252\n",
      "  252 237   0   0   0   0   0   0   0   0]\n",
      " [  0   0   0   0   0   0   0   0   0   0   0   0   0  54 227 253 252 239\n",
      "  233 252  57   6   0   0   0   0   0   0]\n",
      " [  0   0   0   0   0   0   0   0   0   0   0  10  60 224 252 253 252 202\n",
      "   84 252 253 122   0   0   0   0   0   0]\n",
      " [  0   0   0   0   0   0   0   0   0   0   0 163 252 252 252 253 252 252\n",
      "   96 189 253 167   0   0   0   0   0   0]\n",
      " [  0   0   0   0   0   0   0   0   0   0  51 238 253 253 190 114 253 228\n",
      "   47  79 255 168   0   0   0   0   0   0]\n",
      " [  0   0   0   0   0   0   0   0   0  48 238 252 252 179  12  75 121  21\n",
      "    0   0 253 243  50   0   0   0   0   0]\n",
      " [  0   0   0   0   0   0   0   0  38 165 253 233 208  84   0   0   0   0\n",
      "    0   0 253 252 165   0   0   0   0   0]\n",
      " [  0   0   0   0   0   0   0   7 178 252 240  71  19  28   0   0   0   0\n",
      "    0   0 253 252 195   0   0   0   0   0]\n",
      " [  0   0   0   0   0   0   0  57 252 252  63   0   0   0   0   0   0   0\n",
      "    0   0 253 252 195   0   0   0   0   0]\n",
      " [  0   0   0   0   0   0   0 198 253 190   0   0   0   0   0   0   0   0\n",
      "    0   0 255 253 196   0   0   0   0   0]\n",
      " [  0   0   0   0   0   0  76 246 252 112   0   0   0   0   0   0   0   0\n",
      "    0   0 253 252 148   0   0   0   0   0]\n",
      " [  0   0   0   0   0   0  85 252 230  25   0   0   0   0   0   0   0   0\n",
      "    7 135 253 186  12   0   0   0   0   0]\n",
      " [  0   0   0   0   0   0  85 252 223   0   0   0   0   0   0   0   0   7\n",
      "  131 252 225  71   0   0   0   0   0   0]\n",
      " [  0   0   0   0   0   0  85 252 145   0   0   0   0   0   0   0  48 165\n",
      "  252 173   0   0   0   0   0   0   0   0]\n",
      " [  0   0   0   0   0   0  86 253 225   0   0   0   0   0   0 114 238 253\n",
      "  162   0   0   0   0   0   0   0   0   0]\n",
      " [  0   0   0   0   0   0  85 252 249 146  48  29  85 178 225 253 223 167\n",
      "   56   0   0   0   0   0   0   0   0   0]\n",
      " [  0   0   0   0   0   0  85 252 252 252 229 215 252 252 252 196 130   0\n",
      "    0   0   0   0   0   0   0   0   0   0]\n",
      " [  0   0   0   0   0   0  28 199 252 252 253 252 252 233 145   0   0   0\n",
      "    0   0   0   0   0   0   0   0   0   0]\n",
      " [  0   0   0   0   0   0   0  25 128 252 253 252 141  37   0   0   0   0\n",
      "    0   0   0   0   0   0   0   0   0   0]\n",
      " [  0   0   0   0   0   0   0   0   0   0   0   0   0   0   0   0   0   0\n",
      "    0   0   0   0   0   0   0   0   0   0]\n",
      " [  0   0   0   0   0   0   0   0   0   0   0   0   0   0   0   0   0   0\n",
      "    0   0   0   0   0   0   0   0   0   0]\n",
      " [  0   0   0   0   0   0   0   0   0   0   0   0   0   0   0   0   0   0\n",
      "    0   0   0   0   0   0   0   0   0   0]\n",
      " [  0   0   0   0   0   0   0   0   0   0   0   0   0   0   0   0   0   0\n",
      "    0   0   0   0   0   0   0   0   0   0]]\n"
     ]
    },
    {
     "data": {
      "text/plain": "<Figure size 1200x600 with 10 Axes>",
      "image/png": "[encoded data removed]"
     },
     "metadata": {},
     "output_type": "display_data"
    }
   ],
   "source": [
    "# Konvertieren des MNIST-Datensatzes in ein NumPy-Array\n",
    "images = []\n",
    "labels = []\n",
    "for i in range(len(MNIST_dataset_train)):\n",
    "    img, label = MNIST_dataset_train[i]\n",
    "    images.append(np.array(img))\n",
    "    labels.append(label)\n",
    "print(images[1])    \n",
    "\n",
    "# Anzeigen der ersten 10 Bilder mit Matplotlib\n",
    "\n",
    "plt.figure(figsize=(12, 6))\n",
    "for i in range(10):\n",
    "    plt.subplot(2, 5, i+1)\n",
    "    plt.imshow(images[i], cmap='gray')\n",
    "    plt.title(f\"Label: {labels[i]}\")\n",
    "    plt.axis('off')\n",
    "plt.tight_layout()\n",
    "plt.show()\n"
   ],
   "metadata": {
    "collapsed": false,
    "ExecuteTime": {
     "end_time": "2024-04-10T08:14:26.554517100Z",
     "start_time": "2024-04-10T08:14:22.752274400Z"
    }
   },
   "id": "4f2eae3bb4bb1242"
  },
  {
   "cell_type": "markdown",
   "source": [
    "Hier ist sind nun die ersten Zehn Bilder aus dem Datensatz, diese bestehen aus einem 28x28 pixel grossem Bild und zeigen alle eine von hand geschriebene Zahl. Im Hintergrund sind die Daten wie oben für ein Bild angegeben als Arrays gespeichert. Wenn die Zahl 0 ist ist der Pixel schwarz, je heller der Pixel ist, desto grösser ist die Zahl im Hintergrund. Nun wollen wir auch noch anschauen, wie gross der Datensatz ist und wie die Zahlen verteilt sind."
   ],
   "metadata": {
    "collapsed": false
   },
   "id": "a08b073e4b4adb9b"
  },
  {
   "cell_type": "code",
   "execution_count": 4,
   "outputs": [
    {
     "name": "stdout",
     "output_type": "stream",
     "text": [
      "Die Größe des Trainingsdatensatzes beträgt: 60000\n",
      "Die Größe des Testsdatensatzes beträgt: 10000\n"
     ]
    }
   ],
   "source": [
    "print(\"Die Größe des Trainingsdatensatzes beträgt:\", len(MNIST_dataset_train))\n",
    "\n",
    "print(\"Die Größe des Testsdatensatzes beträgt:\", len(MNIST_dataset_test))"
   ],
   "metadata": {
    "collapsed": false,
    "ExecuteTime": {
     "end_time": "2024-04-10T08:14:26.570620700Z",
     "start_time": "2024-04-10T08:14:26.556514500Z"
    }
   },
   "id": "d16456c057c5fa7b"
  },
  {
   "cell_type": "code",
   "execution_count": 5,
   "outputs": [
    {
     "data": {
      "text/plain": "<Figure size 1000x600 with 1 Axes>",
      "image/png": "[encoded data removed]"
     },
     "metadata": {},
     "output_type": "display_data"
    }
   ],
   "source": [
    "class_counts = {i: 0 for i in range(10)}\n",
    "for img, label in MNIST_dataset_train:\n",
    "    class_counts[label] += 1\n",
    "\n",
    "digits = list(class_counts.keys())\n",
    "counts = list(class_counts.values())\n",
    "\n",
    "plt.figure(figsize=(10, 6))\n",
    "plt.bar(digits, counts, color='skyblue')\n",
    "plt.xlabel('Zahl')\n",
    "plt.ylabel('Anzahl der Labels')\n",
    "plt.title('Anzahl der Labels jeder Zahl im MNIST-Datensatz')\n",
    "plt.xticks(digits)\n",
    "plt.grid(axis='y', linestyle='--', alpha=0.7)\n",
    "plt.show()"
   ],
   "metadata": {
    "collapsed": false,
    "ExecuteTime": {
     "end_time": "2024-04-10T08:14:28.210263Z",
     "start_time": "2024-04-10T08:14:26.565605700Z"
    }
   },
   "id": "746eaf052f481cd1"
  },
  {
   "cell_type": "markdown",
   "source": [
    "##Aufgabe 2"
   ],
   "metadata": {
    "collapsed": false
   },
   "id": "1a7a1337721f16d7"
  },
  {
   "cell_type": "code",
   "execution_count": 2,
   "outputs": [],
   "source": [
    "class linear_layer:\n",
    "    def __init__(self, input_size, output_size):\n",
    "        np.random.seed(123)\n",
    "        self.weights = np.random.randn(input_size, output_size)  # Initialisierung der Gewichte\n",
    "        self.bias = np.random.randn(1, output_size)  # Initialisierung des Bias\n",
    "    \n",
    "    def forward(self, inputs):\n",
    "        self.inputs = inputs\n",
    "        self.outputs = np.dot(inputs, self.weights) + self.bias\n",
    "        return self.outputs\n",
    "\n",
    "    def backward(self, d_outputs):\n",
    "        n = input_size\n",
    "        self.d_weights = (1/n) * np.dot(d_outputs, self.inputs.T)\n",
    "        self.d_bias = (1/n) * np.sum(d_outputs, axis=1)\n",
    "        self.d_inputs = np.dot(d_outputs, self.weights.T)\n",
    "        return self.d_inputs\n",
    "\n",
    "    def update_parameters(self, learning_rate):\n",
    "        self.weights -= learning_rate * self.d_weights\n",
    "        self.bias -= learning_rate * self.d_bias"
   ],
   "metadata": {
    "collapsed": false,
    "ExecuteTime": {
     "end_time": "2024-04-10T11:32:53.744454Z",
     "start_time": "2024-04-10T11:32:53.736525100Z"
    }
   },
   "id": "dbd5e2e885d923a2"
  },
  {
   "cell_type": "markdown",
   "source": [
    "Erstellung der Linear layer Klasse:\n",
    "Mit dem init werden die Grundeigenschaften der Klasse Definiert, dabei werden die Gewichte und der Bias zufällig ausgewählt. Bei der Forward Funktion werden die Inputs angegeben, und die Outputs Berechnet. Um dann anschliessend die die anpassungen vornehmen zu können brauchen wir die backward Funktion, diese schaut sich die Outputs an und gibt dann an, wo wir wieviel korrigieren müssen. Zuletzt korrigieren wir anhand der im backward ausgerechneten werten und einer learning_rate die Parameter.\n"
   ],
   "metadata": {
    "collapsed": false
   },
   "id": "ab9dc431da92e396"
  },
  {
   "cell_type": "code",
   "execution_count": 12,
   "outputs": [
    {
     "name": "stdout",
     "output_type": "stream",
     "text": [
      "Test Forward ist: [[ 1. 13.]\n",
      " [-2. -8.]]\n",
      "\n",
      "Test für Backward:\n",
      "dw ist: [[ 5.  -5.5]\n",
      " [ 2.  -2.5]]\n",
      "db ist: [3.5 1.5]\n",
      "dx ist: [[17.  8.]\n",
      " [ 7.  2.]]\n",
      "\n",
      "Test für Updates mit Learningrate 1:\n",
      "Weights nach Update: [[-3.   8.5]\n",
      " [-3.   6.5]]\n",
      "Bias nach Update: [-2.5  0.5]\n"
     ]
    }
   ],
   "source": [
    "test_inputs = np.array([[1., 2.],[-2., -1]])\n",
    "test_weights = np.array([[2., 3.], [-1., 4.]])\n",
    "test_bias = np.array([1., 2.])\n",
    "test_d_outputs = np.array([[4., 3.], [2., 1.]])\n",
    "\n",
    "print(\"Test Forward ist:\", np.dot(test_inputs, test_weights)+test_bias)\n",
    "print(\"\\nTest für Backward:\")\n",
    "print(\"dw ist:\", (1/2) * np.dot(test_d_outputs, test_inputs.T))\n",
    "print(\"db ist:\", (1/2) * np.sum(test_d_outputs, axis=1))\n",
    "print(\"dx ist:\", np.dot(test_d_outputs, test_weights.T))\n",
    "print(\"\\nTest für Updates mit Learningrate 1:\")\n",
    "print(\"Weights nach Update:\", test_weights - (1/2) * np.dot(test_d_outputs, test_inputs.T))\n",
    "print(\"Bias nach Update:\", test_bias - (1/2) * np.sum(test_d_outputs, axis=1))"
   ],
   "metadata": {
    "collapsed": false,
    "ExecuteTime": {
     "end_time": "2024-04-10T08:49:55.538225100Z",
     "start_time": "2024-04-10T08:49:55.512450Z"
    }
   },
   "id": "5a91ca7658e50af3"
  },
  {
   "cell_type": "markdown",
   "source": [
    "##Aufgabe 3"
   ],
   "metadata": {
    "collapsed": false
   },
   "id": "b47c34d59f0914b6"
  },
  {
   "cell_type": "code",
   "execution_count": null,
   "outputs": [],
   "source": [],
   "metadata": {
    "collapsed": false,
    "ExecuteTime": {
     "end_time": "2024-04-10T08:14:28.726335Z",
     "start_time": "2024-04-10T08:14:28.718336900Z"
    }
   },
   "id": "5d1a3b49f5b72c2a"
  },
  {
   "cell_type": "code",
   "execution_count": null,
   "outputs": [],
   "source": [],
   "metadata": {
    "collapsed": false,
    "ExecuteTime": {
     "start_time": "2024-04-10T08:14:28.721336Z"
    }
   },
   "id": "6cb2bb701d0c567f"
  }
 ],
 "metadata": {
  "kernelspec": {
   "display_name": "Python 3",
   "language": "python",
   "name": "python3"
  },
  "language_info": {
   "codemirror_mode": {
    "name": "ipython",
    "version": 2
   },
   "file_extension": ".py",
   "mimetype": "text/x-python",
   "name": "python",
   "nbconvert_exporter": "python",
   "pygments_lexer": "ipython2",
   "version": "2.7.6"
  }
 },
 "nbformat": 4,
 "nbformat_minor": 5
}
