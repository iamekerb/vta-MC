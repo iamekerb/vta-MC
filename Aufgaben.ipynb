{
 "cells": [
  {
   "cell_type": "markdown",
   "source": [
    "Imports:\n",
    "Importieren der nötigen Pakete für die Minichallenge"
   ],
   "metadata": {
    "collapsed": false
   },
   "id": "d39776936a322cbd"
  },
  {
   "cell_type": "code",
   "execution_count": 3,
   "outputs": [],
   "source": [
    "import numpy as np\n",
    "import matplotlib as mpl\n",
    "import torchvision as tv"
   ],
   "metadata": {
    "collapsed": false,
    "ExecuteTime": {
     "start_time": "2024-03-26T12:34:09.495097900Z"
    }
   },
   "id": "5413021fd0382fdf"
  },
  {
   "cell_type": "markdown",
   "source": [
    "Laden des MNIST Datensatzes, einmal um das spätere Model zu trainieren und einmal um es zu testen."
   ],
   "metadata": {
    "collapsed": false
   },
   "id": "9d5001b1b1f361ab"
  },
  {
   "cell_type": "code",
   "execution_count": 6,
   "outputs": [],
   "source": [
    "MNIST_dataset_train = tv.datasets.MNIST(root='./data', train=True, download=True)\n",
    "\n",
    "MNIST_dataset_test = tv.datasets.MNIST(root='./data', train=False, download=True)"
   ],
   "metadata": {
    "collapsed": false,
    "ExecuteTime": {
     "end_time": "2024-03-26T12:37:08.456870500Z",
     "start_time": "2024-03-26T12:37:08.239711300Z"
    }
   },
   "id": "93411f47aae5ce79"
  },
  {
   "cell_type": "markdown",
   "source": [
    "Übersicht über die Daten bekommen mithilfe von Matplotlib"
   ],
   "metadata": {
    "collapsed": false
   },
   "id": "456487ca376b19c8"
  },
  {
   "cell_type": "code",
   "execution_count": null,
   "outputs": [],
   "source": [],
   "metadata": {
    "collapsed": false
   },
   "id": "4f2eae3bb4bb1242"
  }
 ],
 "metadata": {
  "kernelspec": {
   "display_name": "Python 3",
   "language": "python",
   "name": "python3"
  },
  "language_info": {
   "codemirror_mode": {
    "name": "ipython",
    "version": 2
   },
   "file_extension": ".py",
   "mimetype": "text/x-python",
   "name": "python",
   "nbconvert_exporter": "python",
   "pygments_lexer": "ipython2",
   "version": "2.7.6"
  }
 },
 "nbformat": 4,
 "nbformat_minor": 5
}
